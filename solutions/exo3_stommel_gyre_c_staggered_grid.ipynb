{
 "cells": [
  {
   "cell_type": "markdown",
   "metadata": {},
   "source": [
    "# Exercise 3: Stommel gyre on a C-staggered grid\n",
    "\n",
    "Staggered grids are a natural discretisation for flows deriving from a stream function.\n",
    "\n",
    "The objective of this exercise is to write a Stommel flow on a C grid.\n",
    "\n",
    "* To tell Parcels that you define a c-grid, use the flag `interp_method='cgrid_linear'` within the `RectilinearZGrid` options\n"
   ]
  },
  {
   "cell_type": "code",
   "execution_count": 1,
   "metadata": {},
   "outputs": [
    {
     "name": "stderr",
     "output_type": "stream",
     "text": [
      "WARNING: Casting field data to np.float32\n"
     ]
    }
   ],
   "source": [
    "from parcels import Field, RectilinearZGrid, FieldSet\n",
    "import numpy as np\n",
    "import math\n",
    "\n",
    "# Some constants\n",
    "A = 10\n",
    "eps = 0.05\n",
    "a = 10000\n",
    "b = 10000\n",
    "\n",
    "# Coordinates of the test fieldset (on A-grid)\n",
    "xdim = 200\n",
    "ydim = 400\n",
    "lon = np.linspace(0, a, xdim, dtype=np.float32)\n",
    "lat = np.linspace(0, b, ydim, dtype=np.float32)\n",
    "dx = lon[1]-lon[0]\n",
    "dy = lat[1]-lat[0]\n",
    "(x, y) = np.meshgrid(lon, lat)\n",
    "\n",
    "l1 = (-1 + math.sqrt(1 + 4 * math.pi**2 * eps**2)) / (2 * eps)\n",
    "l2 = (-1 - math.sqrt(1 + 4 * math.pi**2 * eps**2)) / (2 * eps)\n",
    "c1 = (1 - math.exp(l2)) / (math.exp(l2) - math.exp(l1))\n",
    "c2 = -(1 + c1)\n",
    "\n",
    "P = A * (c1*np.exp(l1*x/a) + c2*np.exp(l2*x/a) + 1) * np.sin(np.pi * y/b)\n",
    "U = np.zeros(P.shape)\n",
    "V = np.zeros(P.shape)\n",
    "U[1:,:] =  - (P[1:,:]-P[:-1,:])/dy\n",
    "V[:,1:] =    (P[:,1:]-P[:,:-1])/dx\n",
    "\n",
    "grid = RectilinearZGrid(lon=lon, lat=lat)\n",
    "ufield = Field('U', U, grid=grid, interp_method='cgrid_linear')\n",
    "vfield = Field('V', V, grid=grid, interp_method='cgrid_linear')\n",
    "pfield = Field('P', P, grid=grid, interp_method='linear')\n",
    "fieldset = FieldSet(ufield, vfield, {'P':pfield})"
   ]
  },
  {
   "cell_type": "code",
   "execution_count": 2,
   "metadata": {},
   "outputs": [
    {
     "name": "stderr",
     "output_type": "stream",
     "text": [
      "INFO: Compiled MyParticleAdvectionEEUpdateP ==> /var/folders/h0/01fvrmn11qb62yjw7v1kn62r0000gq/T/parcels-503/b7273f089a695b75bea769f15f9ddde9.so\n"
     ]
    },
    {
     "name": "stdout",
     "output_type": "stream",
     "text": [
      "lon: 3277.04, lat: 9208.73, time: 4.32e+06, p: 0.679673, p_start: 0.678165\n",
      "lon: 3330.05, lat: 8970.83, time: 4.32e+06, p: 0.871985, p_start: 0.870433\n",
      "lon: 3339.52, lat: 8746.16, time: 4.32e+06, p: 1.0521, p_start: 1.05293\n",
      "lon: 3327.7, lat: 8527.11, time: 4.32e+06, p: 1.22546, p_start: 1.2251\n"
     ]
    },
    {
     "data": {
      "image/png": "[encoded data removed]",
      "text/plain": [
       "<matplotlib.figure.Figure at 0x112d4c910>"
      ]
     },
     "metadata": {},
     "output_type": "display_data"
    },
    {
     "data": {
      "text/plain": [
       "<module 'matplotlib.pyplot' from '/Users/delandmeter/anaconda2/envs/py2_parcels/lib/python2.7/site-packages/matplotlib/pyplot.pyc'>"
      ]
     },
     "execution_count": 2,
     "metadata": {},
     "output_type": "execute_result"
    }
   ],
   "source": [
    "from parcels import Variable, JITParticle, ScipyParticle, ParticleSet, AdvectionEE\n",
    "from datetime import timedelta as delta\n",
    "\n",
    "class MyParticle(JITParticle):\n",
    "    p = Variable('p', dtype=np.float32, initial=0.)\n",
    "    p_start = Variable('p_start', dtype=np.float32, initial=fieldset.P)\n",
    "\n",
    "def UpdateP(particle, fieldset, time, dt):\n",
    "    particle.p = fieldset.P[time, particle.lon, particle.lat, particle.depth]\n",
    "\n",
    "pset = ParticleSet.from_line(fieldset, size=4, pclass=MyParticle,\n",
    "                             start=(100, 5000), finish=(200, 5000), time=0)\n",
    "\n",
    "runtime = delta(days=50)\n",
    "dt = delta(minutes=1)\n",
    "\n",
    "output_file = pset.ParticleFile(name=\"StommelCParticle\", outputdt=delta(days=1))\n",
    "pset.execute(AdvectionEE + pset.Kernel(UpdateP), runtime=runtime, dt=dt,\n",
    "             output_file=output_file)\n",
    "\n",
    "\n",
    "for p in pset:\n",
    "    print(\"lon: %g, lat: %g, time: %g, p: %g, p_start: %g\" % (p.lon, p.lat, p.time, p.p, p.p_start) )\n",
    "\n",
    "from parcels import plotTrajectoriesFile\n",
    "plotTrajectoriesFile('StommelCParticle.nc')"
   ]
  },
  {
   "cell_type": "code",
   "execution_count": null,
   "metadata": {},
   "outputs": [],
   "source": []
  }
 ],
 "metadata": {
  "kernelspec": {
   "display_name": "Python 2",
   "language": "python",
   "name": "python2"
  },
  "language_info": {
   "codemirror_mode": {
    "name": "ipython",
    "version": 2
   },
   "file_extension": ".py",
   "mimetype": "text/x-python",
   "name": "python",
   "nbconvert_exporter": "python",
   "pygments_lexer": "ipython2",
   "version": "2.7.14"
  }
 },
 "nbformat": 4,
 "nbformat_minor": 2
}
